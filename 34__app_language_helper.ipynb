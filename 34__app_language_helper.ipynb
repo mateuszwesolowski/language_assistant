{
 "cells": [
  {
   "cell_type": "markdown",
   "metadata": {},
   "source": [
    "# Aplikacja Pomocnik Językowy"
   ]
  },
  {
   "cell_type": "markdown",
   "metadata": {},
   "source": [
    "## Specyfikacja / Specs\n",
    "\n",
    "* Aplikacja ma za zadanie pomóc w nauce języków obcych\n",
    "* Użytkownik może wpisać wiadomość po polsku i wybrać język na który chce przetłumaczyć\n",
    "* Alternatywnie użytkownik może wpisać wiadomość w języku obcym i wówczas rezultatem będzie naprawienie błędów w tekście i doszlifowanie go tak, aby był bardziej poprawny gramatycznie\n",
    "* Następnie tłumaczenie wiadomości jest wyświetlane \n",
    "* Dodatkowo można wygenerować wytłumaczenie poszczegółnych słów i konstrukcji gramatycznych\n",
    "* Na koniec do wiadomości można wygenerować wersję audio, dzięki czemu użytkownik może nauczyć się poprawnej wymowy"
   ]
  },
  {
   "cell_type": "markdown",
   "metadata": {},
   "source": [
    "## Architektura\n",
    "\n",
    "![](34__app_language_helper.excalidraw.png)"
   ]
  },
  {
   "cell_type": "markdown",
   "metadata": {},
   "source": [
    "## Plan / Taski\n",
    "* v1 - możliwość dodawania wiadomości w języku polskim i tłumaczenia na język angielski\n",
    "* v2 - możliwość dodawania wiadomości w języku polskim i tłumaczenia na wybrany język\n",
    "* v3 - możliwość dodawania wiadomości w języku obcym i poprawiania błędów\n",
    "* v4 - możliwość dodawania wiadomości w języku polskim lub obcym i generowanie ładnej wersji \n",
    "* v5 - generowanie wytłumaczenia użytych słów i konstrukcji gramatycznych\n",
    "* v6 - generowanie wersji audio\n",
    "* v7 - zapisywanie historii tłumaczeń i poprawek w bazie danych"
   ]
  },
  {
   "cell_type": "markdown",
   "metadata": {},
   "source": [
    "## Zależności\n",
    "* `streamlit` - do budowy interfejsu użytkownika.\n",
    "* `openai` i modelu `gpt-4o` - do tłumaczenia i poprawiania tekstów.\n",
    "* `openai` i modelu `tts-1` - generowania wersji audio.\n",
    "* `dotenv` - do przechowywania klucza openai.\n",
    "* `instructor` - do generowania listy ciekawych słówek do nauki i wskazówek gramatycznych"
   ]
  },
  {
   "cell_type": "markdown",
   "metadata": {},
   "source": [
    "## Instalujemy wymagane biblioteki (conda wymagana)\n",
    "\n",
    "- otwórz terminal\n",
    "- uruchom `conda activate od_zera_do_ai`\n",
    "- uruchom `conda config --append channels conda-forge`\n",
    "- uruchom `conda install -y streamlit ffmpeg pydub openai==1.47.0 python-dotenv`\n",
    "- uruchom `pip install instructor`"
   ]
  },
  {
   "cell_type": "markdown",
   "metadata": {},
   "source": [
    "## FAQ\n",
    "\n",
    "### Co zrobić w sytuacji, gdy mam pytania odnośnie projektu?\n",
    "\n",
    "Każdy projekt ma dedykowany kanał na discordzie, ten projekt ma kanał `#projekt-app_language_helper`. W razie pytań, zapraszam do zadawania ich na kanale.\n",
    "\n",
    "### Gdzie przesłać link do projektu?\n",
    "\n",
    "Na kanał `#projekt-app_language_helper` na discordzie proszę o wysłanie:\n",
    "* Linku do aplikacji - aplikacja powinna być wdrożona i dostępna publicznie\n",
    "* Linku do repozytorium z kodem źródłowym (github)\n",
    "\n",
    "### Jakie są kryteria oceny projektu?\n",
    "\n",
    "* Czy aplikacja działa?\n",
    "* Czy aplikacja spełnia założenia projektu?\n",
    "* Czy aplikacja jest wdrożona i publicznie dostępna?\n",
    "\n",
    "### Jakie są terminy?\n",
    "\n",
    "* nie ma, projekt jest otwarty i można go wykonać w dowolnym momencie\n",
    "* możesz spokojnie zacząć projekt w tym module i pracować nad nim do końca kursu\n",
    "\n",
    "### Czy mogę zmodyfikować założenia projektu?\n",
    "\n",
    "Tak, możesz dodać dodatkowe funkcjonalności, które nie są opisane w specyfikacji projektu. Możesz również zmodyfikować istniejące funkcjonalności.\n",
    "Jednak pamiętaj, że w takim przypadku jednoznacznie musisz to opisać w repozytorium projektu.\n",
    "Dodaj plik `README.md` w którym opiszesz zmiany względem specyfikacji projektu.\n",
    "\n",
    "### Czy mogę wykonać projekt w grupie?\n",
    "\n",
    "Tak jest, wówczas proszę o przesłanie listy osób, które pracowały nad projektem.\n",
    "\n",
    "### Czy mogę wykonać projekt w innej technologii?\n",
    "\n",
    "Tak, możesz wykonać projekt w innej technologii, ale pamiętaj, że wówczas musisz dostarczyć dodatkowe informacje jak zainstalować i uruchomić projekt.\n",
    "\n",
    "### Czy mogę pracować nad więcej niż jednym projektem?\n",
    "\n",
    "TAK! Zachęcam do pracy nad wieloma projektami. Każdy projekt to nowe wyzwanie i nowe umiejętności, które zdobędziesz.\n",
    "Po ukończeniu każdego z projektów twoim zadaniem będzie uzupełnienie Twojego portfolio o nowy projekt. Ale o tym dowiesz się w **Module 11**\n"
   ]
  },
  {
   "cell_type": "markdown",
   "metadata": {},
   "source": [
    "## "
   ]
  }
 ],
 "metadata": {
  "kernelspec": {
   "display_name": "Python 3 (ipykernel)",
   "language": "python",
   "name": "python3"
  },
  "language_info": {
   "codemirror_mode": {
    "name": "ipython",
    "version": 3
   },
   "file_extension": ".py",
   "mimetype": "text/x-python",
   "name": "python",
   "nbconvert_exporter": "python",
   "pygments_lexer": "ipython3",
   "version": "3.11.9"
  }
 },
 "nbformat": 4,
 "nbformat_minor": 4
}
